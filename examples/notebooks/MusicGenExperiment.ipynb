{
 "cells": [
  {
   "cell_type": "code",
   "execution_count": 1,
   "metadata": {},
   "outputs": [],
   "source": [
    "# from audiocraft.models import MusicGen\n",
    "# from audiocraft.data.audio import audio_write\n",
    "\n",
    "# model = MusicGen.get_pretrained(\"facebook/musicgen-small\")\n",
    "# model.set_generation_params(duration=8)  # generate 8 seconds.\n",
    "\n",
    "# descriptions = [\"80s Billy Joel\", \"Vocal Jazz\"]\n",
    "\n",
    "# wav = model.generate(descriptions)  # generates 2 samples.\n",
    "\n",
    "# for idx, one_wav in enumerate(wav):\n",
    "#     # Will save under {idx}.wav, with loudness normalization at -14 db LUFS.\n",
    "#     audio_write(f'{idx}', one_wav.cpu(), model.sample_rate, strategy=\"loudness\")"
   ]
  },
  {
   "cell_type": "code",
   "execution_count": 1,
   "metadata": {},
   "outputs": [
    {
     "name": "stderr",
     "output_type": "stream",
     "text": [
      "/home/hashem/.local/lib/python3.10/site-packages/torch/cuda/__init__.py:546: UserWarning: Can't initialize NVML\n",
      "  warnings.warn(\"Can't initialize NVML\")\n"
     ]
    }
   ],
   "source": [
    "from prompttools.experiment import MusicGenExperiment"
   ]
  },
  {
   "cell_type": "code",
   "execution_count": 2,
   "metadata": {},
   "outputs": [
    {
     "ename": "TypeError",
     "evalue": "MusicGenExperiment.__init__() missing 1 required positional argument: 'tta'",
     "output_type": "error",
     "traceback": [
      "\u001b[0;31m---------------------------------------------------------------------------\u001b[0m",
      "\u001b[0;31mTypeError\u001b[0m                                 Traceback (most recent call last)",
      "\u001b[1;32m/home/hashem/Desktop/workspace/prompttools/examples/notebooks/MusicGenExperiment.ipynb Cell 3\u001b[0m in \u001b[0;36m<cell line: 1>\u001b[0;34m()\u001b[0m\n\u001b[0;32m----> <a href='vscode-notebook-cell:/home/hashem/Desktop/workspace/prompttools/examples/notebooks/MusicGenExperiment.ipynb#W2sZmlsZQ%3D%3D?line=0'>1</a>\u001b[0m tta \u001b[39m=\u001b[39m MusicGenExperiment(prompt\u001b[39m=\u001b[39;49m[\u001b[39m\"\u001b[39;49m\u001b[39m80s Rock n Roll\u001b[39;49m\u001b[39m\"\u001b[39;49m, \u001b[39m\"\u001b[39;49m\u001b[39m90s R&B\u001b[39;49m\u001b[39m\"\u001b[39;49m])\n",
      "\u001b[0;31mTypeError\u001b[0m: MusicGenExperiment.__init__() missing 1 required positional argument: 'tta'"
     ]
    }
   ],
   "source": [
    "tta = MusicGenExperiment(tta=[\"facebook/musicgen-small\"], prompt=[\"80s Rock n Roll\", \"90s R&B\"])"
   ]
  }
 ],
 "metadata": {
  "kernelspec": {
   "display_name": "Python 3.10.12 64-bit",
   "language": "python",
   "name": "python3"
  },
  "language_info": {
   "codemirror_mode": {
    "name": "ipython",
    "version": 3
   },
   "file_extension": ".py",
   "mimetype": "text/x-python",
   "name": "python",
   "nbconvert_exporter": "python",
   "pygments_lexer": "ipython3",
   "version": "3.10.12"
  },
  "orig_nbformat": 4,
  "vscode": {
   "interpreter": {
    "hash": "916dbcbb3f70747c44a77c7bcd40155683ae19c65e1c03b4aa3499c5328201f1"
   }
  }
 },
 "nbformat": 4,
 "nbformat_minor": 2
}
