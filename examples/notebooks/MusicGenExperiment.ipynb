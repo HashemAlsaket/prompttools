{
 "cells": [
  {
   "cell_type": "code",
   "execution_count": 3,
   "metadata": {},
   "outputs": [
    {
     "name": "stderr",
     "output_type": "stream",
     "text": [
      "CLIPPING 0 happening with proba (a bit of clipping is okay): 1.1718750101863407e-05 maximum scale:  1.0149246454238892\n",
      "CLIPPING 1 happening with proba (a bit of clipping is okay): 4.6875000407453626e-05 maximum scale:  1.0451520681381226\n"
     ]
    }
   ],
   "source": [
    "from audiocraft.models import MusicGen\n",
    "from audiocraft.data.audio import audio_write\n",
    "\n",
    "model = MusicGen.get_pretrained(\"facebook/musicgen-small\")\n",
    "model.set_generation_params(duration=8)  # generate 8 seconds.\n",
    "\n",
    "descriptions = [\"80s Billy Joel\", \"Vocal Jazz\"]\n",
    "\n",
    "wav = model.generate(descriptions)  # generates 2 samples.\n",
    "\n",
    "for idx, one_wav in enumerate(wav):\n",
    "    # Will save under {idx}.wav, with loudness normalization at -14 db LUFS.\n",
    "    audio_write(f'{idx}', one_wav.cpu(), model.sample_rate, strategy=\"loudness\")"
   ]
  }
 ],
 "metadata": {
  "kernelspec": {
   "display_name": "Python 3.10.12 64-bit",
   "language": "python",
   "name": "python3"
  },
  "language_info": {
   "codemirror_mode": {
    "name": "ipython",
    "version": 3
   },
   "file_extension": ".py",
   "mimetype": "text/x-python",
   "name": "python",
   "nbconvert_exporter": "python",
   "pygments_lexer": "ipython3",
   "version": "3.10.12"
  },
  "orig_nbformat": 4,
  "vscode": {
   "interpreter": {
    "hash": "916dbcbb3f70747c44a77c7bcd40155683ae19c65e1c03b4aa3499c5328201f1"
   }
  }
 },
 "nbformat": 4,
 "nbformat_minor": 2
}
