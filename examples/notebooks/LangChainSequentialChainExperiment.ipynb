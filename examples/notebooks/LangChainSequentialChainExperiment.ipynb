{
 "cells": [
  {
   "cell_type": "markdown",
   "metadata": {},
   "source": [
    "# Lang Chain Sequential Chain Experiment Example"
   ]
  },
  {
   "cell_type": "code",
   "execution_count": 1,
   "metadata": {},
   "outputs": [
    {
     "name": "stdout",
     "output_type": "stream",
     "text": [
      "\n",
      "\n",
      "\u001b[1m> Entering new SequentialChain chain...\u001b[0m\n",
      "\n",
      "\u001b[1m> Finished chain.\u001b[0m\n",
      "\n",
      "\n",
      "\u001b[1m> Entering new SequentialChain chain...\u001b[0m\n",
      "\n",
      "\u001b[1m> Finished chain.\u001b[0m\n"
     ]
    },
    {
     "data": {
      "text/html": [
       "<div>\n",
       "<style scoped>\n",
       "    .dataframe tbody tr th:only-of-type {\n",
       "        vertical-align: middle;\n",
       "    }\n",
       "\n",
       "    .dataframe tbody tr th {\n",
       "        vertical-align: top;\n",
       "    }\n",
       "\n",
       "    .dataframe thead th {\n",
       "        text-align: right;\n",
       "    }\n",
       "</style>\n",
       "<table border=\"1\" class=\"dataframe\">\n",
       "  <thead>\n",
       "    <tr style=\"text-align: right;\">\n",
       "      <th></th>\n",
       "      <th>prompt</th>\n",
       "      <th>response</th>\n",
       "      <th>latency</th>\n",
       "      <th>similar_to_expected</th>\n",
       "      <th>temperature</th>\n",
       "    </tr>\n",
       "  </thead>\n",
       "  <tbody>\n",
       "    <tr>\n",
       "      <th>0</th>\n",
       "      <td>أنا أحب أكل الشاورما</td>\n",
       "      <td>[{'Review': 'أنا أحب أكل الشاورما', 'English_Review': 'I love eating shawarma.', 'summary': 'The reviewer expresses their strong enjoyment for eating shawarma.', 'followup_message': 'تعليق المتابعة: أشكرك على مشاركة رأيك في تجربتك مع تناول الشاورما. يسعدني أن تكون قد استمتعت بتذوق هذا الطبق الشهي. إن الشاورما تعتبر من أكثر الأطباق التي تحظى بشعبية كبيرة في العالم العربي، ولا عجب فهي تجمع بين النكهات الغنية والتوابل الفريدة. أتطلع دائمًا لتناول الشاورما واستكشاف المطاعم التي تقدمها. شكرًا مرة أخرى على تعليقك الإيجابي وأتمنى لك تجارب طعام ممتعة في المستقبل.'}]</td>\n",
       "      <td>12.925311</td>\n",
       "      <td>0.151234</td>\n",
       "      <td>0.1</td>\n",
       "    </tr>\n",
       "    <tr>\n",
       "      <th>1</th>\n",
       "      <td>أنا أحب أكل الشاورما</td>\n",
       "      <td>[{'Review': 'أنا أحب أكل الشاورما', 'English_Review': 'I love eating shawarma.', 'summary': 'The reviewer expresses their love for enjoying shawarma.', 'followup_message': 'المراجع يعبر عن حبه للاستمتاع بالشاورما. أنا أوافق تمامًا على رأيك! الشاورما هي واحدة من أفضل الأطباق التي يمكن تذوقها. لا يمكنني مقاومة الأطعمة الشهية والنكهة الغنية التي تقدمها الشاورما. عندما آكل الشاورما، أشعر وكأنني في رحلة مذاق شهية ومشوقة. كل مكون في الشاورما، سواء كان اللحم المشوي المغموس في التوابل اللذيذة، أو الخضروات المحمصة بشكل مثالي، يعمل معًا لتقديم تجربة غذائية لا تنسى. شكرًا لك على توصية الشاورما وأتطلع لمشاركتها مع العائلة والأصدقاء في المستقبل.'}]</td>\n",
       "      <td>13.195340</td>\n",
       "      <td>0.163725</td>\n",
       "      <td>0.9</td>\n",
       "    </tr>\n",
       "  </tbody>\n",
       "</table>\n",
       "</div>"
      ],
      "text/plain": [
       "                 prompt  \\\n",
       "0  أنا أحب أكل الشاورما   \n",
       "1  أنا أحب أكل الشاورما   \n",
       "\n",
       "                                                                                                                                                                                                                                                                                                                                                                                                                                                                                                                                                                                                                                                              response  \\\n",
       "0  [{'Review': 'أنا أحب أكل الشاورما', 'English_Review': 'I love eating shawarma.', 'summary': 'The reviewer expresses their strong enjoyment for eating shawarma.', 'followup_message': 'تعليق المتابعة: أشكرك على مشاركة رأيك في تجربتك مع تناول الشاورما. يسعدني أن تكون قد استمتعت بتذوق هذا الطبق الشهي. إن الشاورما تعتبر من أكثر الأطباق التي تحظى بشعبية كبيرة في العالم العربي، ولا عجب فهي تجمع بين النكهات الغنية والتوابل الفريدة. أتطلع دائمًا لتناول الشاورما واستكشاف المطاعم التي تقدمها. شكرًا مرة أخرى على تعليقك الإيجابي وأتمنى لك تجارب طعام ممتعة في المستقبل.'}]                                                                                  \n",
       "1  [{'Review': 'أنا أحب أكل الشاورما', 'English_Review': 'I love eating shawarma.', 'summary': 'The reviewer expresses their love for enjoying shawarma.', 'followup_message': 'المراجع يعبر عن حبه للاستمتاع بالشاورما. أنا أوافق تمامًا على رأيك! الشاورما هي واحدة من أفضل الأطباق التي يمكن تذوقها. لا يمكنني مقاومة الأطعمة الشهية والنكهة الغنية التي تقدمها الشاورما. عندما آكل الشاورما، أشعر وكأنني في رحلة مذاق شهية ومشوقة. كل مكون في الشاورما، سواء كان اللحم المشوي المغموس في التوابل اللذيذة، أو الخضروات المحمصة بشكل مثالي، يعمل معًا لتقديم تجربة غذائية لا تنسى. شكرًا لك على توصية الشاورما وأتطلع لمشاركتها مع العائلة والأصدقاء في المستقبل.'}]   \n",
       "\n",
       "     latency  similar_to_expected  temperature  \n",
       "0  12.925311  0.151234             0.1          \n",
       "1  13.195340  0.163725             0.9          "
      ]
     },
     "metadata": {},
     "output_type": "display_data"
    }
   ],
   "source": [
    "from prompttools.experiment import SequentialChainExperiment\n",
    "from langchain.chat_models import ChatOpenAI\n",
    "from langchain.prompts import ChatPromptTemplate\n",
    "\n",
    "from prompttools.utils import similarity\n",
    "\n",
    "# prompt template 1: translate to english\n",
    "first_prompt = ChatPromptTemplate.from_template(\n",
    "    \"Translate the following review to english:\"\n",
    "    \"\\n\\n{Review}\"\n",
    ")\n",
    "\n",
    "second_prompt = ChatPromptTemplate.from_template(\n",
    "    \"Can you summarize the following review in 1 sentence:\"\n",
    "    \"\\n\\n{English_Review}\"\n",
    ")\n",
    "\n",
    "third_prompt = ChatPromptTemplate.from_template(\n",
    "    \"What language is the following review:\\n\\n{Review}\"\n",
    ")\n",
    "\n",
    "fourth_prompt = ChatPromptTemplate.from_template(\n",
    "    \"Write a follow up response to the following \"\n",
    "    \"summary in the specified language:\"\n",
    "    \"\\n\\nSummary: {summary}\\n\\nLanguage: {language}\"\n",
    ")\n",
    "\n",
    "experiment = SequentialChainExperiment(\n",
    "    llms=[ChatOpenAI],\n",
    "    **{\n",
    "        \"prompt_chain\": [first_prompt, second_prompt, third_prompt, fourth_prompt],\n",
    "        \"temperature\": [0.1, 0.9],\n",
    "        \"input_variables\": [\"Review\"],\n",
    "        \"output_variables\": [\"English_Review\", \"summary\", \"followup_message\"],\n",
    "        \"output_key\": [\"English_Review\", \"summary\", \"language\", \"followup_message\"],\n",
    "        \"prompt\": \"أنا أحب أكل الشاورما\",\n",
    "    }\n",
    ")\n",
    "\n",
    "\n",
    "experiment.run()\n",
    "\n",
    "experiment.evaluate(\"similar_to_expected\", similarity.evaluate, expected=\"I love to eat shawarma\")\n",
    "\n",
    "experiment.visualize()\n"
   ]
  }
 ],
 "metadata": {
  "kernelspec": {
   "display_name": "Python 3.10.6 ('env': venv)",
   "language": "python",
   "name": "python3"
  },
  "language_info": {
   "codemirror_mode": {
    "name": "ipython",
    "version": 3
   },
   "file_extension": ".py",
   "mimetype": "text/x-python",
   "name": "python",
   "nbconvert_exporter": "python",
   "pygments_lexer": "ipython3",
   "version": "3.10.6"
  },
  "orig_nbformat": 4,
  "vscode": {
   "interpreter": {
    "hash": "eec05f12730ef3ef66f433616fcd3cfdacd3dcf1f1c49c706eaa0465be8f325b"
   }
  }
 },
 "nbformat": 4,
 "nbformat_minor": 2
}
